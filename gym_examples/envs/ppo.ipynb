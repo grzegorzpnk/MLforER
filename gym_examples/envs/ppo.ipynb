{
 "cells": [
  {
   "cell_type": "markdown",
   "source": [
    "Test action space sample"
   ],
   "metadata": {
    "collapsed": false
   }
  },
  {
   "cell_type": "code",
   "execution_count": 1,
   "outputs": [
    {
     "data": {
      "text/plain": "13"
     },
     "execution_count": 1,
     "metadata": {},
     "output_type": "execute_result"
    }
   ],
   "source": [
    "from sb3_contrib import MaskablePPO\n",
    "import edge_relocation as er\n",
    "# create environment\n",
    "erEnv = er.EdgeRelEnv(\"topoconfig.json\")\n",
    "erEnv.action_space.sample()"
   ],
   "metadata": {
    "collapsed": false
   }
  },
  {
   "cell_type": "markdown",
   "source": [
    "Test masks"
   ],
   "metadata": {
    "collapsed": false
   }
  },
  {
   "cell_type": "code",
   "execution_count": 2,
   "outputs": [
    {
     "name": "stdout",
     "output_type": "stream",
     "text": [
      "App reqlatency:  15 current MEC ID:  mec7 current cell ID:  5\n",
      "mec8 cpu util:  43 mem util:  43\n",
      "mec9 cpu util:  50 mem util:  50\n",
      "mec10 cpu util:  74 mem util:  74\n",
      "mec7 cpu util:  27 mem util:  32\n",
      "mec12 cpu util:  41 mem util:  41\n",
      "mec13 cpu util:  32 mem util:  32\n",
      "mec14 cpu util:  64 mem util:  64\n",
      "mec11 cpu util:  79 mem util:  79\n",
      "mec16 cpu util:  33 mem util:  33\n",
      "mec17 cpu util:  35 mem util:  35\n",
      "mec18 cpu util:  52 mem util:  52\n",
      "mec15 cpu util:  60 mem util:  60\n",
      "mec20 cpu util:  46 mem util:  46\n",
      "mec21 cpu util:  23 mem util:  23\n",
      "mec22 cpu util:  43 mem util:  43\n",
      "mec19 cpu util:  19 mem util:  19\n",
      "mec2 cpu util:  21 mem util:  21\n",
      "mec3 cpu util:  26 mem util:  26\n",
      "mec4 cpu util:  68 mem util:  68\n",
      "mec5 cpu util:  71 mem util:  71\n",
      "mec6 cpu util:  64 mem util:  64\n",
      "mec1 cpu util:  24 mem util:  24\n",
      "[False, True, True, True, False, False, True, True, True, True, False, True, True, True, False, False, False, False, False, False, False, False]\n"
     ]
    }
   ],
   "source": [
    "erEnv.reset()\n",
    "print(\"App reqlatency: \", erEnv.mecApp.app_req_latency, \"current MEC ID: \", erEnv.mecApp.current_MEC.id, \"current cell ID: \", erEnv.mecApp.user_position)\n",
    "for mec in erEnv.mec_nodes:\n",
    "    print(mec.id, \"cpu util: \", mec.cpu_utilization, \"mem util: \", mec.memory_utilization)\n",
    "print(erEnv.action_masks())\n",
    "\n",
    "#please note that masks refers to the valid action of selecting 'mec1', mec2, mec3 etc, while the list below lists mecs in wrong order"
   ],
   "metadata": {
    "collapsed": false
   }
  },
  {
   "cell_type": "markdown",
   "source": [
    "Test Maskable PPO"
   ],
   "metadata": {
    "collapsed": false
   }
  },
  {
   "cell_type": "code",
   "execution_count": 3,
   "outputs": [
    {
     "name": "stdout",
     "output_type": "stream",
     "text": [
      "Using cpu device\n",
      "Wrapping the env with a `Monitor` wrapper\n",
      "Wrapping the env in a DummyVecEnv.\n"
     ]
    },
    {
     "ename": "AssertionError",
     "evalue": "Unsupported structured space '<class 'gymnasium.spaces.dict.Dict'>'",
     "output_type": "error",
     "traceback": [
      "\u001B[1;31m---------------------------------------------------------------------------\u001B[0m",
      "\u001B[1;31mAssertionError\u001B[0m                            Traceback (most recent call last)",
      "Cell \u001B[1;32mIn[3], line 10\u001B[0m\n\u001B[0;32m      8\u001B[0m obs \u001B[38;5;241m=\u001B[39m erEnv\u001B[38;5;241m.\u001B[39mreset()\n\u001B[0;32m      9\u001B[0m log_dir \u001B[38;5;241m=\u001B[39m \u001B[38;5;124m\"\u001B[39m\u001B[38;5;124m../logs/PPO/\u001B[39m\u001B[38;5;124m\"\u001B[39m \u001B[38;5;241m+\u001B[39m datetime\u001B[38;5;241m.\u001B[39mdatetime\u001B[38;5;241m.\u001B[39mnow()\u001B[38;5;241m.\u001B[39mstrftime(\u001B[38;5;124m\"\u001B[39m\u001B[38;5;124mMultiEnVRewNormDelay\u001B[39m\u001B[38;5;124m%\u001B[39m\u001B[38;5;124mY\u001B[39m\u001B[38;5;124m%\u001B[39m\u001B[38;5;124mm\u001B[39m\u001B[38;5;132;01m%d\u001B[39;00m\u001B[38;5;124m-\u001B[39m\u001B[38;5;124m%\u001B[39m\u001B[38;5;124mH\u001B[39m\u001B[38;5;124m%\u001B[39m\u001B[38;5;124mM\u001B[39m\u001B[38;5;124m%\u001B[39m\u001B[38;5;124mS\u001B[39m\u001B[38;5;124m\"\u001B[39m)\n\u001B[1;32m---> 10\u001B[0m model \u001B[38;5;241m=\u001B[39m \u001B[43mMaskablePPO\u001B[49m\u001B[43m(\u001B[49m\u001B[38;5;124;43m\"\u001B[39;49m\u001B[38;5;124;43mMultiInputPolicy\u001B[39;49m\u001B[38;5;124;43m\"\u001B[39;49m\u001B[43m,\u001B[49m\u001B[43m \u001B[49m\u001B[43merEnv\u001B[49m\u001B[43m,\u001B[49m\u001B[43m \u001B[49m\u001B[43mverbose\u001B[49m\u001B[38;5;241;43m=\u001B[39;49m\u001B[38;5;241;43m1\u001B[39;49m\u001B[43m,\u001B[49m\u001B[43m \u001B[49m\u001B[43mtensorboard_log\u001B[49m\u001B[43m \u001B[49m\u001B[38;5;241;43m=\u001B[39;49m\u001B[43m \u001B[49m\u001B[43mlog_dir\u001B[49m\u001B[43m)\u001B[49m\n\u001B[0;32m     11\u001B[0m model\u001B[38;5;241m.\u001B[39mlearn(total_timesteps\u001B[38;5;241m=\u001B[39m\u001B[38;5;241m1000\u001B[39m)\n\u001B[0;32m     13\u001B[0m \u001B[38;5;66;03m#Seems that for today, MaskablePPO is checking about the type of Space, and it accepts only spaces of gym, not yet a spaces of gymnasium. Further checks required\u001B[39;00m\n",
      "File \u001B[1;32m~\\PycharmProjects\\MLforER\\venv\\lib\\site-packages\\sb3_contrib\\ppo_mask\\ppo_mask.py:100\u001B[0m, in \u001B[0;36mMaskablePPO.__init__\u001B[1;34m(self, policy, env, learning_rate, n_steps, batch_size, n_epochs, gamma, gae_lambda, clip_range, clip_range_vf, normalize_advantage, ent_coef, vf_coef, max_grad_norm, target_kl, tensorboard_log, policy_kwargs, verbose, seed, device, _init_setup_model)\u001B[0m\n\u001B[0;32m     76\u001B[0m \u001B[38;5;28;01mdef\u001B[39;00m \u001B[38;5;21m__init__\u001B[39m(\n\u001B[0;32m     77\u001B[0m     \u001B[38;5;28mself\u001B[39m,\n\u001B[0;32m     78\u001B[0m     policy: Union[\u001B[38;5;28mstr\u001B[39m, Type[MaskableActorCriticPolicy]],\n\u001B[1;32m   (...)\u001B[0m\n\u001B[0;32m     98\u001B[0m     _init_setup_model: \u001B[38;5;28mbool\u001B[39m \u001B[38;5;241m=\u001B[39m \u001B[38;5;28;01mTrue\u001B[39;00m,\n\u001B[0;32m     99\u001B[0m ):\n\u001B[1;32m--> 100\u001B[0m     \u001B[38;5;28;43msuper\u001B[39;49m\u001B[43m(\u001B[49m\u001B[43m)\u001B[49m\u001B[38;5;241;43m.\u001B[39;49m\u001B[38;5;21;43m__init__\u001B[39;49m\u001B[43m(\u001B[49m\n\u001B[0;32m    101\u001B[0m \u001B[43m        \u001B[49m\u001B[43mpolicy\u001B[49m\u001B[43m,\u001B[49m\n\u001B[0;32m    102\u001B[0m \u001B[43m        \u001B[49m\u001B[43menv\u001B[49m\u001B[43m,\u001B[49m\n\u001B[0;32m    103\u001B[0m \u001B[43m        \u001B[49m\u001B[43mlearning_rate\u001B[49m\u001B[38;5;241;43m=\u001B[39;49m\u001B[43mlearning_rate\u001B[49m\u001B[43m,\u001B[49m\n\u001B[0;32m    104\u001B[0m \u001B[43m        \u001B[49m\u001B[43mn_steps\u001B[49m\u001B[38;5;241;43m=\u001B[39;49m\u001B[43mn_steps\u001B[49m\u001B[43m,\u001B[49m\n\u001B[0;32m    105\u001B[0m \u001B[43m        \u001B[49m\u001B[43mgamma\u001B[49m\u001B[38;5;241;43m=\u001B[39;49m\u001B[43mgamma\u001B[49m\u001B[43m,\u001B[49m\n\u001B[0;32m    106\u001B[0m \u001B[43m        \u001B[49m\u001B[43mgae_lambda\u001B[49m\u001B[38;5;241;43m=\u001B[39;49m\u001B[43mgae_lambda\u001B[49m\u001B[43m,\u001B[49m\n\u001B[0;32m    107\u001B[0m \u001B[43m        \u001B[49m\u001B[43ment_coef\u001B[49m\u001B[38;5;241;43m=\u001B[39;49m\u001B[43ment_coef\u001B[49m\u001B[43m,\u001B[49m\n\u001B[0;32m    108\u001B[0m \u001B[43m        \u001B[49m\u001B[43mvf_coef\u001B[49m\u001B[38;5;241;43m=\u001B[39;49m\u001B[43mvf_coef\u001B[49m\u001B[43m,\u001B[49m\n\u001B[0;32m    109\u001B[0m \u001B[43m        \u001B[49m\u001B[43mmax_grad_norm\u001B[49m\u001B[38;5;241;43m=\u001B[39;49m\u001B[43mmax_grad_norm\u001B[49m\u001B[43m,\u001B[49m\n\u001B[0;32m    110\u001B[0m \u001B[43m        \u001B[49m\u001B[43muse_sde\u001B[49m\u001B[38;5;241;43m=\u001B[39;49m\u001B[38;5;28;43;01mFalse\u001B[39;49;00m\u001B[43m,\u001B[49m\n\u001B[0;32m    111\u001B[0m \u001B[43m        \u001B[49m\u001B[43msde_sample_freq\u001B[49m\u001B[38;5;241;43m=\u001B[39;49m\u001B[38;5;241;43m-\u001B[39;49m\u001B[38;5;241;43m1\u001B[39;49m\u001B[43m,\u001B[49m\n\u001B[0;32m    112\u001B[0m \u001B[43m        \u001B[49m\u001B[43mtensorboard_log\u001B[49m\u001B[38;5;241;43m=\u001B[39;49m\u001B[43mtensorboard_log\u001B[49m\u001B[43m,\u001B[49m\n\u001B[0;32m    113\u001B[0m \u001B[43m        \u001B[49m\u001B[43mpolicy_kwargs\u001B[49m\u001B[38;5;241;43m=\u001B[39;49m\u001B[43mpolicy_kwargs\u001B[49m\u001B[43m,\u001B[49m\n\u001B[0;32m    114\u001B[0m \u001B[43m        \u001B[49m\u001B[43mverbose\u001B[49m\u001B[38;5;241;43m=\u001B[39;49m\u001B[43mverbose\u001B[49m\u001B[43m,\u001B[49m\n\u001B[0;32m    115\u001B[0m \u001B[43m        \u001B[49m\u001B[43mseed\u001B[49m\u001B[38;5;241;43m=\u001B[39;49m\u001B[43mseed\u001B[49m\u001B[43m,\u001B[49m\n\u001B[0;32m    116\u001B[0m \u001B[43m        \u001B[49m\u001B[43mdevice\u001B[49m\u001B[38;5;241;43m=\u001B[39;49m\u001B[43mdevice\u001B[49m\u001B[43m,\u001B[49m\n\u001B[0;32m    117\u001B[0m \u001B[43m        \u001B[49m\u001B[43m_init_setup_model\u001B[49m\u001B[38;5;241;43m=\u001B[39;49m\u001B[38;5;28;43;01mFalse\u001B[39;49;00m\u001B[43m,\u001B[49m\n\u001B[0;32m    118\u001B[0m \u001B[43m        \u001B[49m\u001B[43msupported_action_spaces\u001B[49m\u001B[38;5;241;43m=\u001B[39;49m\u001B[43m(\u001B[49m\n\u001B[0;32m    119\u001B[0m \u001B[43m            \u001B[49m\u001B[43mspaces\u001B[49m\u001B[38;5;241;43m.\u001B[39;49m\u001B[43mDiscrete\u001B[49m\u001B[43m,\u001B[49m\n\u001B[0;32m    120\u001B[0m \u001B[43m            \u001B[49m\u001B[43mspaces\u001B[49m\u001B[38;5;241;43m.\u001B[39;49m\u001B[43mMultiDiscrete\u001B[49m\u001B[43m,\u001B[49m\n\u001B[0;32m    121\u001B[0m \u001B[43m            \u001B[49m\u001B[43mspaces\u001B[49m\u001B[38;5;241;43m.\u001B[39;49m\u001B[43mMultiBinary\u001B[49m\u001B[43m,\u001B[49m\n\u001B[0;32m    122\u001B[0m \u001B[43m        \u001B[49m\u001B[43m)\u001B[49m\u001B[43m,\u001B[49m\n\u001B[0;32m    123\u001B[0m \u001B[43m    \u001B[49m\u001B[43m)\u001B[49m\n\u001B[0;32m    125\u001B[0m     \u001B[38;5;28mself\u001B[39m\u001B[38;5;241m.\u001B[39mbatch_size \u001B[38;5;241m=\u001B[39m batch_size\n\u001B[0;32m    126\u001B[0m     \u001B[38;5;28mself\u001B[39m\u001B[38;5;241m.\u001B[39mn_epochs \u001B[38;5;241m=\u001B[39m n_epochs\n",
      "File \u001B[1;32m~\\PycharmProjects\\MLforER\\venv\\lib\\site-packages\\stable_baselines3\\common\\on_policy_algorithm.py:76\u001B[0m, in \u001B[0;36mOnPolicyAlgorithm.__init__\u001B[1;34m(self, policy, env, learning_rate, n_steps, gamma, gae_lambda, ent_coef, vf_coef, max_grad_norm, use_sde, sde_sample_freq, tensorboard_log, monitor_wrapper, policy_kwargs, verbose, seed, device, _init_setup_model, supported_action_spaces)\u001B[0m\n\u001B[0;32m     53\u001B[0m \u001B[38;5;28;01mdef\u001B[39;00m \u001B[38;5;21m__init__\u001B[39m(\n\u001B[0;32m     54\u001B[0m     \u001B[38;5;28mself\u001B[39m,\n\u001B[0;32m     55\u001B[0m     policy: Union[\u001B[38;5;28mstr\u001B[39m, Type[ActorCriticPolicy]],\n\u001B[1;32m   (...)\u001B[0m\n\u001B[0;32m     73\u001B[0m     supported_action_spaces: Optional[Tuple[spaces\u001B[38;5;241m.\u001B[39mSpace, \u001B[38;5;241m.\u001B[39m\u001B[38;5;241m.\u001B[39m\u001B[38;5;241m.\u001B[39m]] \u001B[38;5;241m=\u001B[39m \u001B[38;5;28;01mNone\u001B[39;00m,\n\u001B[0;32m     74\u001B[0m ):\n\u001B[1;32m---> 76\u001B[0m     \u001B[38;5;28;43msuper\u001B[39;49m\u001B[43m(\u001B[49m\u001B[43m)\u001B[49m\u001B[38;5;241;43m.\u001B[39;49m\u001B[38;5;21;43m__init__\u001B[39;49m\u001B[43m(\u001B[49m\n\u001B[0;32m     77\u001B[0m \u001B[43m        \u001B[49m\u001B[43mpolicy\u001B[49m\u001B[38;5;241;43m=\u001B[39;49m\u001B[43mpolicy\u001B[49m\u001B[43m,\u001B[49m\n\u001B[0;32m     78\u001B[0m \u001B[43m        \u001B[49m\u001B[43menv\u001B[49m\u001B[38;5;241;43m=\u001B[39;49m\u001B[43menv\u001B[49m\u001B[43m,\u001B[49m\n\u001B[0;32m     79\u001B[0m \u001B[43m        \u001B[49m\u001B[43mlearning_rate\u001B[49m\u001B[38;5;241;43m=\u001B[39;49m\u001B[43mlearning_rate\u001B[49m\u001B[43m,\u001B[49m\n\u001B[0;32m     80\u001B[0m \u001B[43m        \u001B[49m\u001B[43mpolicy_kwargs\u001B[49m\u001B[38;5;241;43m=\u001B[39;49m\u001B[43mpolicy_kwargs\u001B[49m\u001B[43m,\u001B[49m\n\u001B[0;32m     81\u001B[0m \u001B[43m        \u001B[49m\u001B[43mverbose\u001B[49m\u001B[38;5;241;43m=\u001B[39;49m\u001B[43mverbose\u001B[49m\u001B[43m,\u001B[49m\n\u001B[0;32m     82\u001B[0m \u001B[43m        \u001B[49m\u001B[43mdevice\u001B[49m\u001B[38;5;241;43m=\u001B[39;49m\u001B[43mdevice\u001B[49m\u001B[43m,\u001B[49m\n\u001B[0;32m     83\u001B[0m \u001B[43m        \u001B[49m\u001B[43muse_sde\u001B[49m\u001B[38;5;241;43m=\u001B[39;49m\u001B[43muse_sde\u001B[49m\u001B[43m,\u001B[49m\n\u001B[0;32m     84\u001B[0m \u001B[43m        \u001B[49m\u001B[43msde_sample_freq\u001B[49m\u001B[38;5;241;43m=\u001B[39;49m\u001B[43msde_sample_freq\u001B[49m\u001B[43m,\u001B[49m\n\u001B[0;32m     85\u001B[0m \u001B[43m        \u001B[49m\u001B[43msupport_multi_env\u001B[49m\u001B[38;5;241;43m=\u001B[39;49m\u001B[38;5;28;43;01mTrue\u001B[39;49;00m\u001B[43m,\u001B[49m\n\u001B[0;32m     86\u001B[0m \u001B[43m        \u001B[49m\u001B[43mseed\u001B[49m\u001B[38;5;241;43m=\u001B[39;49m\u001B[43mseed\u001B[49m\u001B[43m,\u001B[49m\n\u001B[0;32m     87\u001B[0m \u001B[43m        \u001B[49m\u001B[43mtensorboard_log\u001B[49m\u001B[38;5;241;43m=\u001B[39;49m\u001B[43mtensorboard_log\u001B[49m\u001B[43m,\u001B[49m\n\u001B[0;32m     88\u001B[0m \u001B[43m        \u001B[49m\u001B[43msupported_action_spaces\u001B[49m\u001B[38;5;241;43m=\u001B[39;49m\u001B[43msupported_action_spaces\u001B[49m\u001B[43m,\u001B[49m\n\u001B[0;32m     89\u001B[0m \u001B[43m    \u001B[49m\u001B[43m)\u001B[49m\n\u001B[0;32m     91\u001B[0m     \u001B[38;5;28mself\u001B[39m\u001B[38;5;241m.\u001B[39mn_steps \u001B[38;5;241m=\u001B[39m n_steps\n\u001B[0;32m     92\u001B[0m     \u001B[38;5;28mself\u001B[39m\u001B[38;5;241m.\u001B[39mgamma \u001B[38;5;241m=\u001B[39m gamma\n",
      "File \u001B[1;32m~\\PycharmProjects\\MLforER\\venv\\lib\\site-packages\\stable_baselines3\\common\\base_class.py:160\u001B[0m, in \u001B[0;36mBaseAlgorithm.__init__\u001B[1;34m(self, policy, env, learning_rate, policy_kwargs, tensorboard_log, verbose, device, support_multi_env, monitor_wrapper, seed, use_sde, sde_sample_freq, supported_action_spaces)\u001B[0m\n\u001B[0;32m    158\u001B[0m \u001B[38;5;28;01mif\u001B[39;00m env \u001B[38;5;129;01mis\u001B[39;00m \u001B[38;5;129;01mnot\u001B[39;00m \u001B[38;5;28;01mNone\u001B[39;00m:\n\u001B[0;32m    159\u001B[0m     env \u001B[38;5;241m=\u001B[39m maybe_make_env(env, \u001B[38;5;28mself\u001B[39m\u001B[38;5;241m.\u001B[39mverbose)\n\u001B[1;32m--> 160\u001B[0m     env \u001B[38;5;241m=\u001B[39m \u001B[38;5;28;43mself\u001B[39;49m\u001B[38;5;241;43m.\u001B[39;49m\u001B[43m_wrap_env\u001B[49m\u001B[43m(\u001B[49m\u001B[43menv\u001B[49m\u001B[43m,\u001B[49m\u001B[43m \u001B[49m\u001B[38;5;28;43mself\u001B[39;49m\u001B[38;5;241;43m.\u001B[39;49m\u001B[43mverbose\u001B[49m\u001B[43m,\u001B[49m\u001B[43m \u001B[49m\u001B[43mmonitor_wrapper\u001B[49m\u001B[43m)\u001B[49m\n\u001B[0;32m    162\u001B[0m     \u001B[38;5;28mself\u001B[39m\u001B[38;5;241m.\u001B[39mobservation_space \u001B[38;5;241m=\u001B[39m env\u001B[38;5;241m.\u001B[39mobservation_space\n\u001B[0;32m    163\u001B[0m     \u001B[38;5;28mself\u001B[39m\u001B[38;5;241m.\u001B[39maction_space \u001B[38;5;241m=\u001B[39m env\u001B[38;5;241m.\u001B[39maction_space\n",
      "File \u001B[1;32m~\\PycharmProjects\\MLforER\\venv\\lib\\site-packages\\stable_baselines3\\common\\base_class.py:209\u001B[0m, in \u001B[0;36mBaseAlgorithm._wrap_env\u001B[1;34m(env, verbose, monitor_wrapper)\u001B[0m\n\u001B[0;32m    207\u001B[0m     \u001B[38;5;28;01mif\u001B[39;00m verbose \u001B[38;5;241m>\u001B[39m\u001B[38;5;241m=\u001B[39m \u001B[38;5;241m1\u001B[39m:\n\u001B[0;32m    208\u001B[0m         \u001B[38;5;28mprint\u001B[39m(\u001B[38;5;124m\"\u001B[39m\u001B[38;5;124mWrapping the env in a DummyVecEnv.\u001B[39m\u001B[38;5;124m\"\u001B[39m)\n\u001B[1;32m--> 209\u001B[0m     env \u001B[38;5;241m=\u001B[39m \u001B[43mDummyVecEnv\u001B[49m\u001B[43m(\u001B[49m\u001B[43m[\u001B[49m\u001B[38;5;28;43;01mlambda\u001B[39;49;00m\u001B[43m:\u001B[49m\u001B[43m \u001B[49m\u001B[43menv\u001B[49m\u001B[43m]\u001B[49m\u001B[43m)\u001B[49m\n\u001B[0;32m    211\u001B[0m \u001B[38;5;66;03m# Make sure that dict-spaces are not nested (not supported)\u001B[39;00m\n\u001B[0;32m    212\u001B[0m check_for_nested_spaces(env\u001B[38;5;241m.\u001B[39mobservation_space)\n",
      "File \u001B[1;32m~\\PycharmProjects\\MLforER\\venv\\lib\\site-packages\\stable_baselines3\\common\\vec_env\\dummy_vec_env.py:40\u001B[0m, in \u001B[0;36mDummyVecEnv.__init__\u001B[1;34m(self, env_fns)\u001B[0m\n\u001B[0;32m     38\u001B[0m VecEnv\u001B[38;5;241m.\u001B[39m\u001B[38;5;21m__init__\u001B[39m(\u001B[38;5;28mself\u001B[39m, \u001B[38;5;28mlen\u001B[39m(env_fns), env\u001B[38;5;241m.\u001B[39mobservation_space, env\u001B[38;5;241m.\u001B[39maction_space)\n\u001B[0;32m     39\u001B[0m obs_space \u001B[38;5;241m=\u001B[39m env\u001B[38;5;241m.\u001B[39mobservation_space\n\u001B[1;32m---> 40\u001B[0m \u001B[38;5;28mself\u001B[39m\u001B[38;5;241m.\u001B[39mkeys, shapes, dtypes \u001B[38;5;241m=\u001B[39m \u001B[43mobs_space_info\u001B[49m\u001B[43m(\u001B[49m\u001B[43mobs_space\u001B[49m\u001B[43m)\u001B[49m\n\u001B[0;32m     42\u001B[0m \u001B[38;5;28mself\u001B[39m\u001B[38;5;241m.\u001B[39mbuf_obs \u001B[38;5;241m=\u001B[39m OrderedDict([(k, np\u001B[38;5;241m.\u001B[39mzeros((\u001B[38;5;28mself\u001B[39m\u001B[38;5;241m.\u001B[39mnum_envs,) \u001B[38;5;241m+\u001B[39m \u001B[38;5;28mtuple\u001B[39m(shapes[k]), dtype\u001B[38;5;241m=\u001B[39mdtypes[k])) \u001B[38;5;28;01mfor\u001B[39;00m k \u001B[38;5;129;01min\u001B[39;00m \u001B[38;5;28mself\u001B[39m\u001B[38;5;241m.\u001B[39mkeys])\n\u001B[0;32m     43\u001B[0m \u001B[38;5;28mself\u001B[39m\u001B[38;5;241m.\u001B[39mbuf_dones \u001B[38;5;241m=\u001B[39m np\u001B[38;5;241m.\u001B[39mzeros((\u001B[38;5;28mself\u001B[39m\u001B[38;5;241m.\u001B[39mnum_envs,), dtype\u001B[38;5;241m=\u001B[39m\u001B[38;5;28mbool\u001B[39m)\n",
      "File \u001B[1;32m~\\PycharmProjects\\MLforER\\venv\\lib\\site-packages\\stable_baselines3\\common\\vec_env\\util.py:67\u001B[0m, in \u001B[0;36mobs_space_info\u001B[1;34m(obs_space)\u001B[0m\n\u001B[0;32m     65\u001B[0m     subspaces \u001B[38;5;241m=\u001B[39m {i: space \u001B[38;5;28;01mfor\u001B[39;00m i, space \u001B[38;5;129;01min\u001B[39;00m \u001B[38;5;28menumerate\u001B[39m(obs_space\u001B[38;5;241m.\u001B[39mspaces)}\n\u001B[0;32m     66\u001B[0m \u001B[38;5;28;01melse\u001B[39;00m:\n\u001B[1;32m---> 67\u001B[0m     \u001B[38;5;28;01massert\u001B[39;00m \u001B[38;5;129;01mnot\u001B[39;00m \u001B[38;5;28mhasattr\u001B[39m(obs_space, \u001B[38;5;124m\"\u001B[39m\u001B[38;5;124mspaces\u001B[39m\u001B[38;5;124m\"\u001B[39m), \u001B[38;5;124mf\u001B[39m\u001B[38;5;124m\"\u001B[39m\u001B[38;5;124mUnsupported structured space \u001B[39m\u001B[38;5;124m'\u001B[39m\u001B[38;5;132;01m{\u001B[39;00m\u001B[38;5;28mtype\u001B[39m(obs_space)\u001B[38;5;132;01m}\u001B[39;00m\u001B[38;5;124m'\u001B[39m\u001B[38;5;124m\"\u001B[39m\n\u001B[0;32m     68\u001B[0m     subspaces \u001B[38;5;241m=\u001B[39m {\u001B[38;5;28;01mNone\u001B[39;00m: obs_space}\n\u001B[0;32m     69\u001B[0m keys \u001B[38;5;241m=\u001B[39m []\n",
      "\u001B[1;31mAssertionError\u001B[0m: Unsupported structured space '<class 'gymnasium.spaces.dict.Dict'>'"
     ]
    }
   ],
   "source": [
    "import edge_relocation as er\n",
    "\n",
    "import datetime\n",
    "\n",
    "\n",
    "# create environment\n",
    "erEnv = er.EdgeRelEnv(\"topoconfig.json\")\n",
    "obs = erEnv.reset()\n",
    "log_dir = \"../logs/PPO/\" + datetime.datetime.now().strftime(\"MultiEnVRewNormDelay%Y%m%d-%H%M%S\")\n",
    "model = MaskablePPO(\"MultiInputPolicy\", erEnv, verbose=1, tensorboard_log = log_dir)\n",
    "model.learn(total_timesteps=1000)\n",
    "\n",
    "#Seems that for today, MaskablePPO is checking about the type of Space, and it accepts only spaces of gym, not yet a spaces of gymnasium. Further checks required"
   ],
   "metadata": {
    "collapsed": false
   }
  }
 ],
 "metadata": {
  "kernelspec": {
   "display_name": "Python 3",
   "language": "python",
   "name": "python3"
  },
  "language_info": {
   "codemirror_mode": {
    "name": "ipython",
    "version": 2
   },
   "file_extension": ".py",
   "mimetype": "text/x-python",
   "name": "python",
   "nbconvert_exporter": "python",
   "pygments_lexer": "ipython2",
   "version": "2.7.6"
  }
 },
 "nbformat": 4,
 "nbformat_minor": 0
}
