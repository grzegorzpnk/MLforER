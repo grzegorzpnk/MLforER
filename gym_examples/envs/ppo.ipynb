{
 "cells": [
  {
   "cell_type": "markdown",
   "source": [
    "Test action space sample"
   ],
   "metadata": {
    "collapsed": false
   }
  },
  {
   "cell_type": "code",
   "execution_count": 1,
   "outputs": [],
   "source": [
    "from sb3_contrib import MaskablePPO\n",
    "import edge_relocation as er\n"
   ],
   "metadata": {
    "collapsed": false
   }
  },
  {
   "cell_type": "markdown",
   "source": [
    "Test masks"
   ],
   "metadata": {
    "collapsed": false
   }
  },
  {
   "cell_type": "code",
   "execution_count": 2,
   "outputs": [
    {
     "data": {
      "text/plain": "19"
     },
     "execution_count": 2,
     "metadata": {},
     "output_type": "execute_result"
    }
   ],
   "source": [
    "max_trajectory_length = 250\n",
    "min_trajectory_length = 250\n",
    "initial_load = \"variable_load\" # low (10-40%), medium(40-60%)), high(60-80%), random (10-80%), variable_load ( different initial load for each episode)\n",
    "\n",
    "# create environment\n",
    "erEnv = er.EdgeRelEnv(\"topoconfig.json\", min_trajectory_length, max_trajectory_length, initial_load)\n",
    "erEnv.action_space.sample()\n"
   ],
   "metadata": {
    "collapsed": false
   }
  },
  {
   "cell_type": "code",
   "execution_count": null,
   "outputs": [],
   "source": [
    "erEnv.reset()\n",
    "print(\"App reqlatency: \", erEnv.mecApp.app_req_latency, \"current MEC ID: \", erEnv.mecApp.current_MEC.id, \"current cell ID: \", erEnv.mecApp.user_position)\n",
    "for mec in erEnv.mec_nodes:\n",
    "    print(mec.id, \"cpu util: \", mec.cpu_utilization, \"mem util: \", mec.memory_utilization)\n",
    "print(erEnv.action_masks())\n",
    "\n",
    "#please note that masks refers to the valid action of selecting 'mec1', mec2, mec3 etc, while the list below lists mecs in wrong order"
   ],
   "metadata": {
    "collapsed": false
   }
  },
  {
   "cell_type": "markdown",
   "source": [
    "Test Maskable PPO"
   ],
   "metadata": {
    "collapsed": false
   }
  },
  {
   "cell_type": "code",
   "execution_count": 2,
   "outputs": [
    {
     "name": "stdout",
     "output_type": "stream",
     "text": [
      "All falses in mask - modify and True current MEC\n",
      "All falses in mask - modify and True current MEC\n",
      "All falses in mask - modify and True current MEC\n",
      "All falses in mask - modify and True current MEC\n",
      "All falses in mask - modify and True current MEC\n",
      "All falses in mask - modify and True current MEC\n",
      "All falses in mask - modify and True current MEC\n",
      "All falses in mask - modify and True current MEC\n",
      "All falses in mask - modify and True current MEC\n",
      "All falses in mask - modify and True current MEC\n",
      "All falses in mask - modify and True current MEC\n",
      "All falses in mask - modify and True current MEC\n",
      "All falses in mask - modify and True current MEC\n",
      "All falses in mask - modify and True current MEC\n",
      "All falses in mask - modify and True current MEC\n",
      "All falses in mask - modify and True current MEC\n",
      "All falses in mask - modify and True current MEC\n",
      "All falses in mask - modify and True current MEC\n",
      "All falses in mask - modify and True current MEC\n",
      "All falses in mask - modify and True current MEC\n",
      "All falses in mask - modify and True current MEC\n",
      "All falses in mask - modify and True current MEC\n",
      "All falses in mask - modify and True current MEC\n",
      "All falses in mask - modify and True current MEC\n",
      "All falses in mask - modify and True current MEC\n",
      "All falses in mask - modify and True current MEC\n",
      "All falses in mask - modify and True current MEC\n",
      "All falses in mask - modify and True current MEC\n",
      "All falses in mask - modify and True current MEC\n",
      "All falses in mask - modify and True current MEC\n",
      "All falses in mask - modify and True current MEC\n",
      "All falses in mask - modify and True current MEC\n",
      "All falses in mask - modify and True current MEC\n",
      "All falses in mask - modify and True current MEC\n",
      "All falses in mask - modify and True current MEC\n",
      "All falses in mask - modify and True current MEC\n",
      "All falses in mask - modify and True current MEC\n",
      "All falses in mask - modify and True current MEC\n",
      "All falses in mask - modify and True current MEC\n",
      "All falses in mask - modify and True current MEC\n",
      "All falses in mask - modify and True current MEC\n",
      "All falses in mask - modify and True current MEC\n",
      "All falses in mask - modify and True current MEC\n",
      "All falses in mask - modify and True current MEC\n",
      "All falses in mask - modify and True current MEC\n",
      "All falses in mask - modify and True current MEC\n",
      "All falses in mask - modify and True current MEC\n",
      "All falses in mask - modify and True current MEC\n",
      "All falses in mask - modify and True current MEC\n",
      "All falses in mask - modify and True current MEC\n",
      "All falses in mask - modify and True current MEC\n",
      "All falses in mask - modify and True current MEC\n",
      "All falses in mask - modify and True current MEC\n",
      "All falses in mask - modify and True current MEC\n",
      "All falses in mask - modify and True current MEC\n",
      "All falses in mask - modify and True current MEC\n",
      "All falses in mask - modify and True current MEC\n",
      "All falses in mask - modify and True current MEC\n",
      "All falses in mask - modify and True current MEC\n",
      "All falses in mask - modify and True current MEC\n",
      "All falses in mask - modify and True current MEC\n",
      "All falses in mask - modify and True current MEC\n",
      "episodes number:  1993\n"
     ]
    }
   ],
   "source": [
    "import edge_relocation as er\n",
    "\n",
    "import datetime\n",
    "max_trajectory_length = 250\n",
    "min_trajectory_length = 250\n",
    "initial_load = \"variable_load\" # low (10-40%), medium(40-60%)), high(60-80%), random (10-80%), variable_load ( different initial load for each episode)\n",
    "\n",
    "\n",
    "# create environment\n",
    "\n",
    "erEnv = er.EdgeRelEnv(\"topoconfig.json\", min_trajectory_length, max_trajectory_length, initial_load)\n",
    "# obs = erEnv.reset()\n",
    "log_dir = \"../logs/PPO/masked/\" + datetime.datetime.now().strftime(\"Test_Mask_NewRewardFunct%Y%m%d-%H%M%S\")\n",
    "model = MaskablePPO(\"MultiInputPolicy\", erEnv, verbose=0, tensorboard_log = log_dir, n_steps=256)\n",
    "model.learn(total_timesteps=500000)\n",
    "model.save(\"masked_model_trajectory250_steps500k_variableload_newReward\")\n",
    "print(\"episodes number: \", erEnv.episodes_counter)\n",
    "\n",
    "\n",
    "#Seems that for today, MaskablePPO is checking about the type of Space, and it accepts only spaces of gym, not yet a spaces of gymnasium. Further checks required"
   ],
   "metadata": {
    "collapsed": false
   }
  },
  {
   "cell_type": "markdown",
   "source": [
    "5566545+454+5412384049++8049+Test manually single episode"
   ],
   "metadata": {
    "collapsed": false
   }
  },
  {
   "cell_type": "code",
   "execution_count": null,
   "outputs": [],
   "source": [
    "erEnv = er.EdgeRelEnv(\"topoconfig.json\")\n",
    "obs = erEnv.reset()\n",
    "print(\"trajectory (len) : \", len(erEnv.trajectory) ,erEnv.trajectory)\n",
    "print(\"App reqlatency: \", erEnv.mecApp.app_req_latency, \"current MEC ID: \", erEnv.mecApp.current_MEC.id, \"current cell ID: \", erEnv.mecApp.user_position)\n",
    "for i in range (len(erEnv.trajectory)):\n",
    "    print(\"masks:\", erEnv.action_masks())\n",
    "    print(\"current_cell:\", erEnv.trajectory[i])\n",
    "    obs, rewards, dones, info = erEnv.step(3)\n",
    "    print(obs)\n",
    "    print(rewards)\n",
    "    print(dones)"
   ],
   "metadata": {
    "collapsed": false
   }
  },
  {
   "cell_type": "code",
   "execution_count": null,
   "outputs": [],
   "source": [],
   "metadata": {
    "collapsed": false
   }
  }
 ],
 "metadata": {
  "kernelspec": {
   "display_name": "Python 3",
   "language": "python",
   "name": "python3"
  },
  "language_info": {
   "codemirror_mode": {
    "name": "ipython",
    "version": 2
   },
   "file_extension": ".py",
   "mimetype": "text/x-python",
   "name": "python",
   "nbconvert_exporter": "python",
   "pygments_lexer": "ipython2",
   "version": "2.7.6"
  }
 },
 "nbformat": 4,
 "nbformat_minor": 0
}
