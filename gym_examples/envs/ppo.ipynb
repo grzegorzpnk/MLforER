{
 "cells": [
  {
   "cell_type": "markdown",
   "source": [
    "Test action space sample"
   ],
   "metadata": {
    "collapsed": false
   }
  },
  {
   "cell_type": "code",
   "execution_count": 2,
   "outputs": [
    {
     "data": {
      "text/plain": "14"
     },
     "execution_count": 2,
     "metadata": {},
     "output_type": "execute_result"
    }
   ],
   "source": [
    "from sb3_contrib import MaskablePPO\n",
    "import edge_relocation as er\n",
    "# create environment\n",
    "erEnv = er.EdgeRelEnv(\"topoconfig.json\")\n",
    "erEnv.action_space.sample()"
   ],
   "metadata": {
    "collapsed": false
   }
  },
  {
   "cell_type": "markdown",
   "source": [
    "Test masks"
   ],
   "metadata": {
    "collapsed": false
   }
  },
  {
   "cell_type": "code",
   "execution_count": 4,
   "outputs": [
    {
     "name": "stdout",
     "output_type": "stream",
     "text": [
      "App reqlatency:  25 current MEC ID:  mec15 current cell ID:  31\n",
      "mec8 cpu util:  52 mem util:  52\n",
      "mec9 cpu util:  74 mem util:  74\n",
      "mec10 cpu util:  41 mem util:  41\n",
      "mec7 cpu util:  23 mem util:  23\n",
      "mec12 cpu util:  24 mem util:  24\n",
      "mec13 cpu util:  39 mem util:  39\n",
      "mec14 cpu util:  54 mem util:  54\n",
      "mec11 cpu util:  79 mem util:  79\n",
      "mec16 cpu util:  82 mem util:  82\n",
      "mec17 cpu util:  67 mem util:  67\n",
      "mec18 cpu util:  23 mem util:  23\n",
      "mec15 cpu util:  52 mem util:  62\n",
      "mec20 cpu util:  59 mem util:  59\n",
      "mec21 cpu util:  42 mem util:  42\n",
      "mec22 cpu util:  44 mem util:  44\n",
      "mec19 cpu util:  51 mem util:  51\n",
      "mec2 cpu util:  13 mem util:  13\n",
      "mec3 cpu util:  67 mem util:  67\n",
      "mec4 cpu util:  46 mem util:  46\n",
      "mec5 cpu util:  82 mem util:  82\n",
      "mec6 cpu util:  58 mem util:  58\n",
      "mec1 cpu util:  65 mem util:  65\n",
      "[True, True, True, True, False, True, True, True, True, True, False, True, True, True, True, False, True, True, True, True, True, True]\n"
     ]
    }
   ],
   "source": [
    "erEnv.reset()\n",
    "print(\"App reqlatency: \", erEnv.mecApp.app_req_latency, \"current MEC ID: \", erEnv.mecApp.current_MEC.id, \"current cell ID: \", erEnv.mecApp.user_position)\n",
    "for mec in erEnv.mec_nodes:\n",
    "    print(mec.id, \"cpu util: \", mec.cpu_utilization, \"mem util: \", mec.memory_utilization)\n",
    "print(erEnv.action_masks())\n",
    "\n",
    "#please note that masks refers to the valid action of selecting 'mec1', mec2, mec3 etc, while the list below lists mecs in wrong order"
   ],
   "metadata": {
    "collapsed": false
   }
  },
  {
   "cell_type": "markdown",
   "source": [
    "Test Maskable PPO"
   ],
   "metadata": {
    "collapsed": false
   }
  },
  {
   "cell_type": "code",
   "execution_count": 1,
   "outputs": [
    {
     "ename": "NameError",
     "evalue": "name 'MaskablePPO' is not defined",
     "output_type": "error",
     "traceback": [
      "\u001B[1;31m---------------------------------------------------------------------------\u001B[0m",
      "\u001B[1;31mNameError\u001B[0m                                 Traceback (most recent call last)",
      "Cell \u001B[1;32mIn[1], line 10\u001B[0m\n\u001B[0;32m      8\u001B[0m obs \u001B[38;5;241m=\u001B[39m erEnv\u001B[38;5;241m.\u001B[39mreset()\n\u001B[0;32m      9\u001B[0m log_dir \u001B[38;5;241m=\u001B[39m \u001B[38;5;124m\"\u001B[39m\u001B[38;5;124m../logs/PPO/\u001B[39m\u001B[38;5;124m\"\u001B[39m \u001B[38;5;241m+\u001B[39m datetime\u001B[38;5;241m.\u001B[39mdatetime\u001B[38;5;241m.\u001B[39mnow()\u001B[38;5;241m.\u001B[39mstrftime(\u001B[38;5;124m\"\u001B[39m\u001B[38;5;124mMultiEnVRewNormDelay\u001B[39m\u001B[38;5;124m%\u001B[39m\u001B[38;5;124mY\u001B[39m\u001B[38;5;124m%\u001B[39m\u001B[38;5;124mm\u001B[39m\u001B[38;5;132;01m%d\u001B[39;00m\u001B[38;5;124m-\u001B[39m\u001B[38;5;124m%\u001B[39m\u001B[38;5;124mH\u001B[39m\u001B[38;5;124m%\u001B[39m\u001B[38;5;124mM\u001B[39m\u001B[38;5;124m%\u001B[39m\u001B[38;5;124mS\u001B[39m\u001B[38;5;124m\"\u001B[39m)\n\u001B[1;32m---> 10\u001B[0m model \u001B[38;5;241m=\u001B[39m \u001B[43mMaskablePPO\u001B[49m(\u001B[38;5;124m\"\u001B[39m\u001B[38;5;124mMultiInputPolicy\u001B[39m\u001B[38;5;124m\"\u001B[39m, erEnv, verbose\u001B[38;5;241m=\u001B[39m\u001B[38;5;241m1\u001B[39m, tensorboard_log \u001B[38;5;241m=\u001B[39m log_dir)\n\u001B[0;32m     11\u001B[0m model\u001B[38;5;241m.\u001B[39mlearn()\n",
      "\u001B[1;31mNameError\u001B[0m: name 'MaskablePPO' is not defined"
     ]
    }
   ],
   "source": [
    "import edge_relocation as er\n",
    "\n",
    "import datetime\n",
    "\n",
    "\n",
    "# create environment\n",
    "erEnv = er.EdgeRelEnv(\"topoconfig.json\")\n",
    "obs = erEnv.reset()\n",
    "log_dir = \"../logs/PPO/\" + datetime.datetime.now().strftime(\"MultiEnVRewNormDelay%Y%m%d-%H%M%S\")\n",
    "model = MaskablePPO(\"MultiInputPolicy\", erEnv, verbose=1, tensorboard_log = log_dir)\n",
    "model.learn()\n",
    "\n",
    "#Seems that for today, MaskablePPO is checking about the type of Space, and it accepts only spaces of gym, not yet a spaces of gymnasium. Further checks required"
   ],
   "metadata": {
    "collapsed": false
   }
  },
  {
   "cell_type": "code",
   "execution_count": null,
   "outputs": [],
   "source": [],
   "metadata": {
    "collapsed": false
   }
  }
 ],
 "metadata": {
  "kernelspec": {
   "display_name": "Python 3",
   "language": "python",
   "name": "python3"
  },
  "language_info": {
   "codemirror_mode": {
    "name": "ipython",
    "version": 2
   },
   "file_extension": ".py",
   "mimetype": "text/x-python",
   "name": "python",
   "nbconvert_exporter": "python",
   "pygments_lexer": "ipython2",
   "version": "2.7.6"
  }
 },
 "nbformat": 4,
 "nbformat_minor": 0
}
