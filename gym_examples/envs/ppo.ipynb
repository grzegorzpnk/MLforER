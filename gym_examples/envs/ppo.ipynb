{
 "cells": [
  {
   "cell_type": "markdown",
   "source": [
    "Test action space sample"
   ],
   "metadata": {
    "collapsed": false
   }
  },
  {
   "cell_type": "code",
   "execution_count": 1,
   "outputs": [],
   "source": [
    "from sb3_contrib import MaskablePPO\n",
    "import edge_relocation as er\n"
   ],
   "metadata": {
    "collapsed": false
   }
  },
  {
   "cell_type": "markdown",
   "source": [
    "Test masks"
   ],
   "metadata": {
    "collapsed": false
   }
  },
  {
   "cell_type": "code",
   "execution_count": 2,
   "outputs": [
    {
     "name": "stdout",
     "output_type": "stream",
     "text": [
      "GET STATE, ID:  mec8\n",
      "GET STATE, ID:  mec9\n",
      "GET STATE, ID:  mec10\n",
      "GET STATE, ID:  mec7\n",
      "GET STATE, ID:  mec12\n",
      "GET STATE, ID:  mec13\n",
      "GET STATE, ID:  mec14\n",
      "GET STATE, ID:  mec11\n",
      "GET STATE, ID:  mec16\n",
      "GET STATE, ID:  mec17\n",
      "GET STATE, ID:  mec18\n",
      "GET STATE, ID:  mec15\n",
      "GET STATE, ID:  mec20\n",
      "GET STATE, ID:  mec21\n",
      "GET STATE, ID:  mec22\n",
      "GET STATE, ID:  mec19\n",
      "GET STATE, ID:  mec2\n",
      "GET STATE, ID:  mec3\n",
      "GET STATE, ID:  mec4\n",
      "GET STATE, ID:  mec5\n",
      "GET STATE, ID:  mec6\n",
      "GET STATE, ID:  mec1\n"
     ]
    },
    {
     "ename": "AttributeError",
     "evalue": "'NoneType' object has no attribute 'app_req_cpu'",
     "output_type": "error",
     "traceback": [
      "\u001B[1;31m---------------------------------------------------------------------------\u001B[0m",
      "\u001B[1;31mAttributeError\u001B[0m                            Traceback (most recent call last)",
      "Cell \u001B[1;32mIn[2], line 7\u001B[0m\n\u001B[0;32m      5\u001B[0m \u001B[38;5;66;03m# create environment\u001B[39;00m\n\u001B[0;32m      6\u001B[0m erEnv \u001B[38;5;241m=\u001B[39m er\u001B[38;5;241m.\u001B[39mEdgeRelEnv(\u001B[38;5;124m\"\u001B[39m\u001B[38;5;124mtopoconfig.json\u001B[39m\u001B[38;5;124m\"\u001B[39m, min_trajectory_length, max_trajectory_length, initial_load)\n\u001B[1;32m----> 7\u001B[0m \u001B[43merEnv\u001B[49m\u001B[38;5;241;43m.\u001B[39;49m\u001B[43m_get_state\u001B[49m\u001B[43m(\u001B[49m\u001B[43m)\u001B[49m\n\u001B[0;32m      8\u001B[0m erEnv\u001B[38;5;241m.\u001B[39maction_space\u001B[38;5;241m.\u001B[39msample()\n",
      "File \u001B[1;32m~\\PycharmProjects\\MLforER\\gym_examples\\envs\\edge_relocation.py:95\u001B[0m, in \u001B[0;36mEdgeRelEnv._get_state\u001B[1;34m(self)\u001B[0m\n\u001B[0;32m     92\u001B[0m space_App \u001B[38;5;241m=\u001B[39m np\u001B[38;5;241m.\u001B[39mones((\u001B[38;5;241m1\u001B[39m, \u001B[38;5;241m5\u001B[39m))\n\u001B[0;32m     93\u001B[0m \u001B[38;5;66;03m#space_App[0, 0] = self.determineReqRes(self.mecApp.app_req_cpu)\u001B[39;00m\n\u001B[0;32m     94\u001B[0m \u001B[38;5;66;03m#space_App[0, 1] = self.determineReqRes(self.mecApp.app_req_memory)\u001B[39;00m\n\u001B[1;32m---> 95\u001B[0m space_App[\u001B[38;5;241m0\u001B[39m, \u001B[38;5;241m0\u001B[39m] \u001B[38;5;241m=\u001B[39m \u001B[38;5;28;43mself\u001B[39;49m\u001B[38;5;241;43m.\u001B[39;49m\u001B[43mmecApp\u001B[49m\u001B[38;5;241;43m.\u001B[39;49m\u001B[43mapp_req_cpu\u001B[49m \u001B[38;5;241m-\u001B[39m \u001B[38;5;241m500\u001B[39m\n\u001B[0;32m     96\u001B[0m space_App[\u001B[38;5;241m0\u001B[39m, \u001B[38;5;241m1\u001B[39m] \u001B[38;5;241m=\u001B[39m \u001B[38;5;28mself\u001B[39m\u001B[38;5;241m.\u001B[39mmecApp\u001B[38;5;241m.\u001B[39mapp_req_memory \u001B[38;5;241m-\u001B[39m \u001B[38;5;241m500\u001B[39m\n\u001B[0;32m     97\u001B[0m space_App[\u001B[38;5;241m0\u001B[39m, \u001B[38;5;241m2\u001B[39m] \u001B[38;5;241m=\u001B[39m \u001B[38;5;28mself\u001B[39m\u001B[38;5;241m.\u001B[39mdetermineStateofAppLatReq(\u001B[38;5;28mself\u001B[39m\u001B[38;5;241m.\u001B[39mmecApp\u001B[38;5;241m.\u001B[39mapp_req_latency)\n",
      "\u001B[1;31mAttributeError\u001B[0m: 'NoneType' object has no attribute 'app_req_cpu'"
     ]
    }
   ],
   "source": [
    "max_trajectory_length = 250\n",
    "min_trajectory_length = 250\n",
    "initial_load = \"variable_load\" # low (10-40%), medium(40-60%)), high(60-80%), random (10-80%), variable_load ( different initial load for each episode)\n",
    "\n",
    "# create environment\n",
    "erEnv = er.EdgeRelEnv(\"topoconfig.json\", min_trajectory_length, max_trajectory_length, initial_load)\n",
    "erEnv._get_state()\n",
    "erEnv.action_space.sample()\n"
   ],
   "metadata": {
    "collapsed": false
   }
  },
  {
   "cell_type": "code",
   "execution_count": null,
   "outputs": [],
   "source": [
    "erEnv.reset()\n",
    "print(\"App reqlatency: \", erEnv.mecApp.app_req_latency, \"current MEC ID: \", erEnv.mecApp.current_MEC.id, \"current cell ID: \", erEnv.mecApp.user_position)\n",
    "for mec in erEnv.mec_nodes:\n",
    "    print(mec.id, \"cpu util: \", mec.cpu_utilization, \"mem util: \", mec.memory_utilization)\n",
    "print(erEnv.action_masks())\n",
    "\n",
    "#please note that masks refers to the valid action of selecting 'mec1', mec2, mec3 etc, while the list below lists mecs in wrong order"
   ],
   "metadata": {
    "collapsed": false
   }
  },
  {
   "cell_type": "markdown",
   "source": [
    "Test Maskable PPO"
   ],
   "metadata": {
    "collapsed": false
   }
  },
  {
   "cell_type": "code",
   "execution_count": 2,
   "outputs": [
    {
     "name": "stdout",
     "output_type": "stream",
     "text": [
      "episodes number:  798\n"
     ]
    }
   ],
   "source": [
    "import edge_relocation as er\n",
    "\n",
    "import datetime\n",
    "max_trajectory_length = 250\n",
    "min_trajectory_length = 250\n",
    "initial_load = \"variable_load\" # low (10-40%), medium(40-60%)), high(60-80%), random (10-80%), variable_load ( different initial load for each episode)\n",
    "\n",
    "\n",
    "# create environment\n",
    "\n",
    "erEnv = er.EdgeRelEnv(\"topoconfig.json\", min_trajectory_length, max_trajectory_length, initial_load)\n",
    "# obs = erEnv.reset()\n",
    "log_dir = \"../logs/PPO/masked/\" + datetime.datetime.now().strftime(\"Masked_%Y%m%d-%H%M%S\")\n",
    "model = MaskablePPO(\"MultiInputPolicy\", erEnv, verbose=0, tensorboard_log = log_dir, n_steps=256)\n",
    "model.learn(total_timesteps=200000)\n",
    "model_dir = \"Masked/masked-moreVariety2-\" + datetime.datetime.now().strftime(\"_%Y%m%d-%H%M%S\")\n",
    "model.save(model_dir)\n",
    "print(\"episodes number: \", erEnv.episodes_counter)\n",
    "\n",
    "\n",
    "#Seems that for today, MaskablePPO is checking about the type of Space, and it accepts only spaces of gym, not yet a spaces of gymnasium. Fur./02ther checks required"
   ],
   "metadata": {
    "collapsed": false
   }
  },
  {
   "cell_type": "markdown",
   "source": [
    "5566545+454+5412384049++8049+Test manually single episode"
   ],
   "metadata": {
    "collapsed": false
   }
  },
  {
   "cell_type": "code",
   "execution_count": null,
   "outputs": [],
   "source": [
    "erEnv = er.EdgeRelEnv(\"topoconfig.json\")\n",
    "obs = erEnv.reset()\n",
    "print(\"trajectory (len) : \", len(erEnv.trajectory) ,erEnv.trajectory)\n",
    "print(\"App reqlatency: \", erEnv.mecApp.app_req_latency, \"current MEC ID: \", erEnv.mecApp.current_MEC.id, \"current cell ID: \", erEnv.mecApp.user_position)\n",
    "for i in range (len(erEnv.trajectory)):\n",
    "    print(\"masks:\", erEnv.action_masks())\n",
    "    print(\"current_cell:\", erEnv.trajectory[i])\n",
    "    obs, rewards, dones, info = erEnv.step(3)\n",
    "    print(obs)\n",
    "    print(rewards)\n",
    "    print(dones)"
   ],
   "metadata": {
    "collapsed": false
   }
  },
  {
   "cell_type": "code",
   "execution_count": null,
   "outputs": [],
   "source": [],
   "metadata": {
    "collapsed": false
   }
  }
 ],
 "metadata": {
  "kernelspec": {
   "display_name": "Python 3",
   "language": "python",
   "name": "python3"
  },
  "language_info": {
   "codemirror_mode": {
    "name": "ipython",
    "version": 2
   },
   "file_extension": ".py",
   "mimetype": "text/x-python",
   "name": "python",
   "nbconvert_exporter": "python",
   "pygments_lexer": "ipython2",
   "version": "2.7.6"
  }
 },
 "nbformat": 4,
 "nbformat_minor": 0
}
