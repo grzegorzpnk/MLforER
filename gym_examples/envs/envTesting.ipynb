{
 "cells": [
  {
   "cell_type": "raw",
   "source": [
    "Install tools"
   ],
   "metadata": {
    "collapsed": false
   }
  },
  {
   "cell_type": "code",
   "execution_count": null,
   "outputs": [],
   "source": [
    "# pip install stable-baselines[extra]"
   ],
   "metadata": {
    "collapsed": false
   }
  },
  {
   "cell_type": "code",
   "execution_count": null,
   "outputs": [],
   "source": [
    "# pip install ipywidgets"
   ],
   "metadata": {
    "collapsed": false
   }
  },
  {
   "cell_type": "code",
   "execution_count": null,
   "outputs": [],
   "source": [
    "# pip install --upgrade ipywidgets"
   ],
   "metadata": {
    "collapsed": false
   }
  },
  {
   "cell_type": "raw",
   "source": [
    "Imports"
   ],
   "metadata": {
    "collapsed": false
   }
  },
  {
   "cell_type": "code",
   "execution_count": 1,
   "outputs": [],
   "source": [
    "import edge_relocation as er\n",
    "import stable_baselines3 as sb"
   ],
   "metadata": {
    "collapsed": false
   }
  },
  {
   "cell_type": "raw",
   "source": [
    "Test model manually"
   ],
   "metadata": {
    "collapsed": false
   }
  },
  {
   "cell_type": "code",
   "execution_count": 2,
   "outputs": [
    {
     "name": "stdout",
     "output_type": "stream",
     "text": [
      "[<edge_relocation.MecNode object at 0x7f8024563970>, <edge_relocation.MecNode object at 0x7f7f3b6d4400>, <edge_relocation.MecNode object at 0x7f7f3b6d4fd0>, <edge_relocation.MecNode object at 0x7f7f3b6d4700>, <edge_relocation.MecNode object at 0x7f7f3b6d4af0>, <edge_relocation.MecNode object at 0x7f7f3b6d49a0>, <edge_relocation.MecNode object at 0x7f7f3b6d4a30>, <edge_relocation.MecNode object at 0x7f7f3b6d4c40>, <edge_relocation.MecNode object at 0x7f7f3b6d4490>, <edge_relocation.MecNode object at 0x7f7f3b6d43a0>, <edge_relocation.MecNode object at 0x7f7f3b6d4820>, <edge_relocation.MecNode object at 0x7f7f3b6d4e80>, <edge_relocation.MecNode object at 0x7f7f3b6d41c0>, <edge_relocation.MecNode object at 0x7f7f3b6d4880>, <edge_relocation.MecNode object at 0x7f7f3b6d4220>, <edge_relocation.MecNode object at 0x7f7f3b6d4d90>, <edge_relocation.MecNode object at 0x7f7f3b6d4ca0>, <edge_relocation.MecNode object at 0x7f7f3b6d4bb0>, <edge_relocation.MecNode object at 0x7f7f3b6d46a0>, <edge_relocation.MecNode object at 0x7f7f3b6d49d0>, <edge_relocation.MecNode object at 0x7f7f3b6d44c0>, <edge_relocation.MecNode object at 0x7f7f3b6d45b0>]\n"
     ]
    }
   ],
   "source": [
    "erEnv = er.EdgeRelEnv(\"topoconfig.json\")"
   ],
   "metadata": {
    "collapsed": false
   }
  },
  {
   "cell_type": "code",
   "execution_count": null,
   "outputs": [],
   "source": [
    "initialState = erEnv.reset()"
   ],
   "metadata": {
    "collapsed": false
   }
  },
  {
   "cell_type": "code",
   "execution_count": null,
   "outputs": [],
   "source": [
    "state, reward, done = None, None, None\n",
    "print(f\"Trajectory length: {len(erEnv.trajectory)}\")\n",
    "# for i in range(len(erEnv.trajectory)):\n",
    "while True:\n",
    "    action = -1\n",
    "    while action not in [1, 3, 4, 5, 6, 7, 11, 12, 13, 14, 15, 16, 17, 18, 18, 20, 21, 22, 23, 24, 25, 26]:\n",
    "        action = erEnv.action_space.sample()\n",
    "    print(f\"Current action {action}\")\n",
    "    state, reward, done, _ = erEnv.step(action)\n",
    "    if done:\n",
    "        break"
   ],
   "metadata": {
    "collapsed": false
   }
  },
  {
   "cell_type": "code",
   "execution_count": null,
   "outputs": [],
   "source": [
    "print(done)"
   ],
   "metadata": {
    "collapsed": false
   }
  },
  {
   "cell_type": "raw",
   "source": [
    "Test model with A2C algorithm"
   ],
   "metadata": {
    "collapsed": false
   }
  },
  {
   "cell_type": "code",
   "execution_count": 3,
   "outputs": [
    {
     "name": "stdout",
     "output_type": "stream",
     "text": [
      "[<edge_relocation.MecNode object at 0x7f7f3b875130>, <edge_relocation.MecNode object at 0x7f80245e6f10>, <edge_relocation.MecNode object at 0x7f7f3b25c6d0>, <edge_relocation.MecNode object at 0x7f7f3b25c700>, <edge_relocation.MecNode object at 0x7f7f3b25c730>, <edge_relocation.MecNode object at 0x7f7f3b25c760>, <edge_relocation.MecNode object at 0x7f7f3b25c790>, <edge_relocation.MecNode object at 0x7f7f3b25c7c0>, <edge_relocation.MecNode object at 0x7f7f3b25c7f0>, <edge_relocation.MecNode object at 0x7f7f3b25c820>, <edge_relocation.MecNode object at 0x7f7f3b25c880>, <edge_relocation.MecNode object at 0x7f7f3b25c850>, <edge_relocation.MecNode object at 0x7f7f3b25c8b0>, <edge_relocation.MecNode object at 0x7f7f3b25c910>, <edge_relocation.MecNode object at 0x7f7f3b25c8e0>, <edge_relocation.MecNode object at 0x7f7f3b25c940>, <edge_relocation.MecNode object at 0x7f7f3b25c970>, <edge_relocation.MecNode object at 0x7f7f3b25c9d0>, <edge_relocation.MecNode object at 0x7f7f3b25c9a0>, <edge_relocation.MecNode object at 0x7f7f3b25ca00>, <edge_relocation.MecNode object at 0x7f7f3b25ca30>, <edge_relocation.MecNode object at 0x7f7f3b25ca60>]\n"
     ]
    }
   ],
   "source": [
    "# create environment\n",
    "erEnv = er.EdgeRelEnv(\"topoconfig.json\")"
   ],
   "metadata": {
    "collapsed": false
   }
  },
  {
   "cell_type": "code",
   "execution_count": 4,
   "outputs": [],
   "source": [
    "# create A2C model\n",
    "model = sb.a2c.A2C(\n",
    "    policy=\"MultiInputPolicy\",\n",
    "    env=erEnv,\n",
    "    gamma=0.95\n",
    ")"
   ],
   "metadata": {
    "collapsed": false
   }
  },
  {
   "cell_type": "code",
   "execution_count": 5,
   "outputs": [
    {
     "data": {
      "text/plain": "Output()",
      "application/vnd.jupyter.widget-view+json": {
       "version_major": 2,
       "version_minor": 0,
       "model_id": "e201fbda2460469b9e075b67630218b6"
      }
     },
     "metadata": {},
     "output_type": "display_data"
    },
    {
     "data": {
      "text/plain": "",
      "text/html": "<pre style=\"white-space:pre;overflow-x:auto;line-height:normal;font-family:Menlo,'DejaVu Sans Mono',consolas,'Courier New',monospace\"></pre>\n"
     },
     "metadata": {},
     "output_type": "display_data"
    },
    {
     "data": {
      "text/plain": "\n",
      "text/html": "<pre style=\"white-space:pre;overflow-x:auto;line-height:normal;font-family:Menlo,'DejaVu Sans Mono',consolas,'Courier New',monospace\">\n</pre>\n"
     },
     "metadata": {},
     "output_type": "display_data"
    },
    {
     "data": {
      "text/plain": "<stable_baselines3.a2c.a2c.A2C at 0x7f7f3b6d40d0>"
     },
     "execution_count": 5,
     "metadata": {},
     "output_type": "execute_result"
    }
   ],
   "source": [
    "# train A2C model\n",
    "model.learn(\n",
    "    total_timesteps=10000,\n",
    "    log_interval=1,\n",
    "    reset_num_timesteps=2,\n",
    "    progress_bar=True\n",
    ")"
   ],
   "metadata": {
    "collapsed": false
   }
  },
  {
   "cell_type": "code",
   "execution_count": 6,
   "outputs": [
    {
     "name": "stdout",
     "output_type": "stream",
     "text": [
      "----------------------------------------------------\n",
      "\t- Total no. of steps: 15\n",
      "\t- Total no. of episodes: 606\n",
      "\t- Total no. of done relocations: 1556\n",
      "\t- Total no. of skipped relocations: 8084\n",
      "----------------------------------------------------\n"
     ]
    }
   ],
   "source": [
    "# Please note that in step() method we skip actions which do not exist,\n",
    "# that's why relocations_done + relocations_skipped != total_steps\n",
    "erEnv.print_summary()"
   ],
   "metadata": {
    "collapsed": false
   }
  },
  {
   "cell_type": "code",
   "execution_count": null,
   "outputs": [],
   "source": [
    "obs = erEnv.observation_space.sample()\n",
    "\n",
    "model.predict(\n",
    "    observation=obs,\n",
    ")"
   ],
   "metadata": {
    "collapsed": false
   }
  }
 ],
 "metadata": {
  "kernelspec": {
   "display_name": "Python 3",
   "language": "python",
   "name": "python3"
  },
  "language_info": {
   "codemirror_mode": {
    "name": "ipython",
    "version": 2
   },
   "file_extension": ".py",
   "mimetype": "text/x-python",
   "name": "python",
   "nbconvert_exporter": "python",
   "pygments_lexer": "ipython2",
   "version": "2.7.6"
  }
 },
 "nbformat": 4,
 "nbformat_minor": 0
}
