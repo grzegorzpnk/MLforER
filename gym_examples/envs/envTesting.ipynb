{
 "cells": [
  {
   "cell_type": "raw",
   "source": [
    "Install tools"
   ],
   "metadata": {
    "collapsed": false
   }
  },
  {
   "cell_type": "code",
   "execution_count": null,
   "outputs": [],
   "source": [
    "# pip install stable-baselines[extra]"
   ],
   "metadata": {
    "collapsed": false
   }
  },
  {
   "cell_type": "code",
   "execution_count": null,
   "outputs": [],
   "source": [
    "# pip install ipywidgets"
   ],
   "metadata": {
    "collapsed": false
   }
  },
  {
   "cell_type": "code",
   "execution_count": null,
   "outputs": [],
   "source": [
    "# pip install --upgrade ipywidgets"
   ],
   "metadata": {
    "collapsed": false
   }
  },
  {
   "cell_type": "raw",
   "source": [
    "Imports"
   ],
   "metadata": {
    "collapsed": false
   }
  },
  {
   "cell_type": "code",
   "execution_count": null,
   "outputs": [],
   "source": [
    "import edge_relocation as er\n",
    "import stable_baselines3 as sb"
   ],
   "metadata": {
    "collapsed": false
   }
  },
  {
   "cell_type": "raw",
   "source": [
    "Test model manually"
   ],
   "metadata": {
    "collapsed": false
   }
  },
  {
   "cell_type": "code",
   "execution_count": null,
   "outputs": [],
   "source": [
    "erEnv = er.EdgeRelEnv(\"topoconfig.json\")"
   ],
   "metadata": {
    "collapsed": false
   }
  },
  {
   "cell_type": "code",
   "execution_count": null,
   "outputs": [],
   "source": [
    "initialState = erEnv.reset()"
   ],
   "metadata": {
    "collapsed": false
   }
  },
  {
   "cell_type": "code",
   "execution_count": null,
   "outputs": [],
   "source": [
    "state, reward, done = None, None, None\n",
    "print(f\"Trajectory length: {len(erEnv.trajectory)}\")\n",
    "# for i in range(len(erEnv.trajectory)):\n",
    "while True:\n",
    "    action = -1\n",
    "    while action not in [1, 3, 4, 5, 6, 7, 11, 12, 13, 14, 15, 16, 17, 18, 18, 20, 21, 22, 23, 24, 25, 26]:\n",
    "        action = erEnv.action_space.sample()\n",
    "    print(f\"Current action {action}\")\n",
    "    state, reward, done, _ = erEnv.step(action)\n",
    "    if done:\n",
    "        break"
   ],
   "metadata": {
    "collapsed": false
   }
  },
  {
   "cell_type": "code",
   "execution_count": null,
   "outputs": [],
   "source": [
    "print(done)"
   ],
   "metadata": {
    "collapsed": false
   }
  },
  {
   "cell_type": "raw",
   "source": [
    "Test model with A2C algorithm"
   ],
   "metadata": {
    "collapsed": false
   }
  },
  {
   "cell_type": "code",
   "execution_count": null,
   "outputs": [],
   "source": [
    "# create environment\n",
    "erEnv = er.EdgeRelEnv(\"topoconfig.json\")"
   ],
   "metadata": {
    "collapsed": false
   }
  },
  {
   "cell_type": "code",
   "execution_count": null,
   "outputs": [],
   "source": [
    "# create A2C model\n",
    "model = sb.a2c.A2C(\n",
    "    policy=\"MultiInputPolicy\",\n",
    "    env=erEnv,\n",
    "    gamma=0.95\n",
    ")"
   ],
   "metadata": {
    "collapsed": false
   }
  },
  {
   "cell_type": "code",
   "execution_count": null,
   "outputs": [],
   "source": [
    "# train A2C model\n",
    "model.learn(\n",
    "    total_timesteps=10000,\n",
    "    log_interval=1,\n",
    "    reset_num_timesteps=2,\n",
    "    progress_bar=True\n",
    ")"
   ],
   "metadata": {
    "collapsed": false
   }
  },
  {
   "cell_type": "code",
   "execution_count": null,
   "outputs": [],
   "source": [
    "# Please note that in step() method we skip actions which do not exist,\n",
    "# that's why relocations_done + relocations_skipped != total_steps\n",
    "erEnv.print_summary()"
   ],
   "metadata": {
    "collapsed": false
   }
  },
  {
   "cell_type": "code",
   "execution_count": null,
   "outputs": [],
   "source": [
    "obs = erEnv.observation_space.sample()\n",
    "\n",
    "model.predict(\n",
    "    observation=obs,\n",
    ")"
   ],
   "metadata": {
    "collapsed": false
   }
  }
 ],
 "metadata": {
  "kernelspec": {
   "display_name": "Python 3",
   "language": "python",
   "name": "python3"
  },
  "language_info": {
   "codemirror_mode": {
    "name": "ipython",
    "version": 2
   },
   "file_extension": ".py",
   "mimetype": "text/x-python",
   "name": "python",
   "nbconvert_exporter": "python",
   "pygments_lexer": "ipython2",
   "version": "2.7.6"
  }
 },
 "nbformat": 4,
 "nbformat_minor": 0
}
