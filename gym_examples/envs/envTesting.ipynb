{
 "cells": [
  {
   "cell_type": "raw",
   "metadata": {},
   "source": [
    "Imports"
   ]
  },
  {
   "cell_type": "code",
   "execution_count": 3,
   "metadata": {},
   "outputs": [],
   "source": [
    "import edge_relocation as er\n",
    "import stable_baselines3 as sb"
   ]
  },
  {
   "cell_type": "raw",
   "metadata": {},
   "source": [
    "Test model with A2C algorithm"
   ]
  },
  {
   "cell_type": "code",
   "execution_count": 4,
   "metadata": {},
   "outputs": [
    {
     "name": "stdout",
     "output_type": "stream",
     "text": [
      "[<edge_relocation.MecNode object at 0x000002E5D3F657C0>, <edge_relocation.MecNode object at 0x000002E5D3F653D0>, <edge_relocation.MecNode object at 0x000002E5D3F65F70>, <edge_relocation.MecNode object at 0x000002E5D3F65910>, <edge_relocation.MecNode object at 0x000002E5D3F65CA0>, <edge_relocation.MecNode object at 0x000002E5D3F65310>, <edge_relocation.MecNode object at 0x000002E5D3F659A0>, <edge_relocation.MecNode object at 0x000002E5D3F65340>, <edge_relocation.MecNode object at 0x000002E5D3F655E0>, <edge_relocation.MecNode object at 0x000002E5D3F65D00>, <edge_relocation.MecNode object at 0x000002E5D3F652B0>, <edge_relocation.MecNode object at 0x000002E5D3F65D30>, <edge_relocation.MecNode object at 0x000002E5D3F658E0>, <edge_relocation.MecNode object at 0x000002E5D3F65EE0>, <edge_relocation.MecNode object at 0x000002E5D3F65610>, <edge_relocation.MecNode object at 0x000002E5D3F65A30>, <edge_relocation.MecNode object at 0x000002E5D3F65AF0>, <edge_relocation.MecNode object at 0x000002E5D3F65550>, <edge_relocation.MecNode object at 0x000002E5D3F65640>, <edge_relocation.MecNode object at 0x000002E5D3F654F0>, <edge_relocation.MecNode object at 0x000002E5D3F65E80>, <edge_relocation.MecNode object at 0x000002E5D3F65370>]\n"
     ]
    },
    {
     "ename": "AttributeError",
     "evalue": "'EdgeRelEnv' object has no attribute 'specifyMaxIndexOfMEC'",
     "output_type": "error",
     "traceback": [
      "\u001B[1;31m---------------------------------------------------------------------------\u001B[0m",
      "\u001B[1;31mAttributeError\u001B[0m                            Traceback (most recent call last)",
      "Cell \u001B[1;32mIn[4], line 2\u001B[0m\n\u001B[0;32m      1\u001B[0m \u001B[38;5;66;03m# create environment\u001B[39;00m\n\u001B[1;32m----> 2\u001B[0m erEnv \u001B[38;5;241m=\u001B[39m \u001B[43mer\u001B[49m\u001B[38;5;241;43m.\u001B[39;49m\u001B[43mEdgeRelEnv\u001B[49m\u001B[43m(\u001B[49m\u001B[38;5;124;43m\"\u001B[39;49m\u001B[38;5;124;43mtopoconfig.json\u001B[39;49m\u001B[38;5;124;43m\"\u001B[39;49m\u001B[43m)\u001B[49m\n",
      "File \u001B[1;32m~\\PycharmProjects\\MLforER\\gym_examples\\envs\\edge_relocation.py:76\u001B[0m, in \u001B[0;36mEdgeRelEnv.__init__\u001B[1;34m(self, configPath)\u001B[0m\n\u001B[0;32m     74\u001B[0m high_bound_app[:, \u001B[38;5;241m1\u001B[39m] \u001B[38;5;241m=\u001B[39m \u001B[38;5;241m6\u001B[39m  \u001B[38;5;66;03m# high bound of required Memory #1:500, 2:600, 3:700... 6:1000\u001B[39;00m\n\u001B[0;32m     75\u001B[0m high_bound_app[:, \u001B[38;5;241m2\u001B[39m] \u001B[38;5;241m=\u001B[39m \u001B[38;5;241m3\u001B[39m  \u001B[38;5;66;03m# high bound of Required Latency 1:10, 2:15, 3:25\u001B[39;00m\n\u001B[1;32m---> 76\u001B[0m high_bound_app[:, \u001B[38;5;241m3\u001B[39m] \u001B[38;5;241m=\u001B[39m \u001B[38;5;28;43mself\u001B[39;49m\u001B[38;5;241;43m.\u001B[39;49m\u001B[43mspecifyMaxIndexOfMEC\u001B[49m()  \u001B[38;5;66;03m# high bound of CurrentMEC\u001B[39;00m\n\u001B[0;32m     77\u001B[0m high_bound_app[:, \u001B[38;5;241m4\u001B[39m] \u001B[38;5;241m=\u001B[39m \u001B[38;5;28mself\u001B[39m\u001B[38;5;241m.\u001B[39mnumber_of_RANs  \u001B[38;5;66;03m# high bound of CurrentRAN\u001B[39;00m\n\u001B[0;32m     79\u001B[0m \u001B[38;5;28mself\u001B[39m\u001B[38;5;241m.\u001B[39mobservation_space \u001B[38;5;241m=\u001B[39m gym\u001B[38;5;241m.\u001B[39mspaces\u001B[38;5;241m.\u001B[39mDict(\n\u001B[0;32m     80\u001B[0m     {\n\u001B[0;32m     81\u001B[0m         \u001B[38;5;66;03m# MEC(for MEC each)    : 1) CPU Capacity 2) CPU Utilization [%] 3) Memory Capacity 4) Memory Utilization [%] 5) Unit Cost\u001B[39;00m\n\u001B[1;32m   (...)\u001B[0m\n\u001B[0;32m     87\u001B[0m     }\n\u001B[0;32m     88\u001B[0m )\n",
      "\u001B[1;31mAttributeError\u001B[0m: 'EdgeRelEnv' object has no attribute 'specifyMaxIndexOfMEC'"
     ]
    }
   ],
   "source": [
    "# create environment\n",
    "erEnv = er.EdgeRelEnv(\"topoconfig.json\")"
   ]
  },
  {
   "cell_type": "code",
   "execution_count": null,
   "metadata": {},
   "outputs": [],
   "source": [
    "# create A2C model\n",
    "model = sb.a2c.A2C(\n",
    "    policy=\"MultiInputPolicy\",\n",
    "    env=erEnv,\n",
    "    gamma=0.95\n",
    ")"
   ]
  },
  {
   "cell_type": "code",
   "execution_count": null,
   "metadata": {},
   "outputs": [],
   "source": [
    "# train A2C model\n",
    "model.learn(\n",
    "    total_timesteps=1000,\n",
    "    log_interval=1,\n",
    "    reset_num_timesteps=2,\n",
    "    progress_bar=True\n",
    ")"
   ]
  },
  {
   "cell_type": "code",
   "execution_count": null,
   "outputs": [],
   "source": [
    "# Please note that in step() method we skip actions which do not exist,\n",
    "# that's why relocations_done + relocations_skipped != total_steps\n",
    "erEnv.print_summary()"
   ],
   "metadata": {
    "collapsed": false
   }
  },
  {
   "cell_type": "code",
   "execution_count": null,
   "outputs": [],
   "source": [
    "obs = erEnv.observation_space.sample()\n",
    "\n",
    "action, states = model.predict(\n",
    "    observation=obs,\n",
    ")"
   ],
   "metadata": {
    "collapsed": false
   }
  },
  {
   "cell_type": "code",
   "execution_count": null,
   "outputs": [],
   "source": [
    "print(f\"Application space: {obs['space_App']}\")"
   ],
   "metadata": {
    "collapsed": false
   }
  },
  {
   "cell_type": "code",
   "execution_count": null,
   "metadata": {},
   "outputs": [],
   "source": [
    "print(f\"Selected action: {action}\")\n",
    "print(f\"States: {states}\")"
   ]
  },
  {
   "cell_type": "raw",
   "source": [
    "Test model manually"
   ],
   "metadata": {
    "collapsed": false
   }
  },
  {
   "cell_type": "code",
   "execution_count": null,
   "outputs": [],
   "source": [
    "erEnv = er.EdgeRelEnv(\"topoconfig.json\")"
   ],
   "metadata": {
    "collapsed": false
   }
  },
  {
   "cell_type": "code",
   "execution_count": null,
   "outputs": [],
   "source": [
    "initialState = erEnv.reset()"
   ],
   "metadata": {
    "collapsed": false
   }
  },
  {
   "cell_type": "code",
   "execution_count": null,
   "outputs": [],
   "source": [
    "state, reward, done = None, None, None\n",
    "print(f\"Trajectory length: {len(erEnv.trajectory)}\")\n",
    "# for i in range(len(erEnv.trajectory)):\n",
    "while True:\n",
    "    action = -1\n",
    "    while action not in [1, 3, 4, 5, 6, 7, 11, 12, 13, 14, 15, 16, 17, 18, 18, 20, 21, 22, 23, 24, 25, 26]:\n",
    "        action = erEnv.action_space.sample()\n",
    "    print(f\"Current action {action}\")\n",
    "    state, reward, done, _ = erEnv.step(action)\n",
    "    if done:\n",
    "        break"
   ],
   "metadata": {
    "collapsed": false
   }
  },
  {
   "cell_type": "code",
   "execution_count": null,
   "outputs": [],
   "source": [
    "print(done)"
   ],
   "metadata": {
    "collapsed": false
   }
  }
 ],
 "metadata": {
  "kernelspec": {
   "display_name": "Python 3 (ipykernel)",
   "language": "python",
   "name": "python3"
  },
  "language_info": {
   "codemirror_mode": {
    "name": "ipython",
    "version": 3
   },
   "file_extension": ".py",
   "mimetype": "text/x-python",
   "name": "python",
   "nbconvert_exporter": "python",
   "pygments_lexer": "ipython3",
   "version": "3.8.10"
  }
 },
 "nbformat": 4,
 "nbformat_minor": 1
}
