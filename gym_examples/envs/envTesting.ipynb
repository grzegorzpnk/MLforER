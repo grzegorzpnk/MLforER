{
 "cells": [
  {
   "cell_type": "raw",
   "metadata": {},
   "source": [
    "Imports"
   ]
  },
  {
   "cell_type": "code",
   "execution_count": 27,
   "metadata": {},
   "outputs": [],
   "source": [
    "import edge_relocation as er\n",
    "import stable_baselines3 as sb"
   ]
  },
  {
   "cell_type": "raw",
   "metadata": {},
   "source": [
    "Test model with A2C algorithm"
   ]
  },
  {
   "cell_type": "code",
   "execution_count": 28,
   "metadata": {},
   "outputs": [
    {
     "name": "stdout",
     "output_type": "stream",
     "text": [
      "[<edge_relocation.MecNode object at 0x0000027249C2D130>, <edge_relocation.MecNode object at 0x0000027249C2DE50>, <edge_relocation.MecNode object at 0x0000027249C2D340>, <edge_relocation.MecNode object at 0x0000027249C2DA60>, <edge_relocation.MecNode object at 0x0000027249C2D4C0>, <edge_relocation.MecNode object at 0x0000027249C2D190>, <edge_relocation.MecNode object at 0x0000027249C2D550>, <edge_relocation.MecNode object at 0x0000027249C2D0D0>, <edge_relocation.MecNode object at 0x0000027249C2D8E0>, <edge_relocation.MecNode object at 0x0000027249C2D5B0>, <edge_relocation.MecNode object at 0x0000027249C2D400>, <edge_relocation.MecNode object at 0x0000027249C2D670>, <edge_relocation.MecNode object at 0x0000027249C2D460>, <edge_relocation.MecNode object at 0x0000027249C2D310>, <edge_relocation.MecNode object at 0x0000027249C2D2E0>, <edge_relocation.MecNode object at 0x0000027249BE4AC0>, <edge_relocation.MecNode object at 0x0000027249BE4DC0>, <edge_relocation.MecNode object at 0x0000027249BE4520>, <edge_relocation.MecNode object at 0x0000027249BE4130>, <edge_relocation.MecNode object at 0x0000027249BE4220>, <edge_relocation.MecNode object at 0x0000027249BE4910>, <edge_relocation.MecNode object at 0x000002724A0CABB0>]\n"
     ]
    }
   ],
   "source": [
    "# create environment\n",
    "erEnv = er.EdgeRelEnv(\"topoconfig.json\")"
   ]
  },
  {
   "cell_type": "code",
   "execution_count": 29,
   "metadata": {},
   "outputs": [
    {
     "ename": "NameError",
     "evalue": "name 'sb' is not defined",
     "output_type": "error",
     "traceback": [
      "\u001B[1;31m---------------------------------------------------------------------------\u001B[0m",
      "\u001B[1;31mNameError\u001B[0m                                 Traceback (most recent call last)",
      "Cell \u001B[1;32mIn[29], line 2\u001B[0m\n\u001B[0;32m      1\u001B[0m \u001B[38;5;66;03m# create A2C model\u001B[39;00m\n\u001B[1;32m----> 2\u001B[0m model \u001B[38;5;241m=\u001B[39m \u001B[43msb\u001B[49m\u001B[38;5;241m.\u001B[39ma2c\u001B[38;5;241m.\u001B[39mA2C(\n\u001B[0;32m      3\u001B[0m     policy\u001B[38;5;241m=\u001B[39m\u001B[38;5;124m\"\u001B[39m\u001B[38;5;124mMultiInputPolicy\u001B[39m\u001B[38;5;124m\"\u001B[39m,\n\u001B[0;32m      4\u001B[0m     env\u001B[38;5;241m=\u001B[39merEnv,\n\u001B[0;32m      5\u001B[0m     gamma\u001B[38;5;241m=\u001B[39m\u001B[38;5;241m0.95\u001B[39m\n\u001B[0;32m      6\u001B[0m )\n",
      "\u001B[1;31mNameError\u001B[0m: name 'sb' is not defined"
     ]
    }
   ],
   "source": [
    "# create A2C model\n",
    "model = sb.a2c.A2C(\n",
    "    policy=\"MultiInputPolicy\",\n",
    "    env=erEnv,\n",
    "    gamma=0.95\n",
    ")"
   ]
  },
  {
   "cell_type": "code",
   "execution_count": null,
   "metadata": {},
   "outputs": [],
   "source": [
    "# train A2C model\n",
    "model.learn(\n",
    "    total_timesteps=1000,\n",
    "    log_interval=1,\n",
    "    reset_num_timesteps=2,\n",
    "    progress_bar=True\n",
    ")"
   ]
  },
  {
   "cell_type": "code",
   "execution_count": null,
   "outputs": [],
   "source": [
    "# Please note that in step() method we skip actions which do not exist,\n",
    "# that's why relocations_done + relocations_skipped != total_steps\n",
    "erEnv.print_summary()"
   ],
   "metadata": {
    "collapsed": false
   }
  },
  {
   "cell_type": "code",
   "execution_count": null,
   "outputs": [],
   "source": [
    "obs = erEnv.observation_space.sample()\n",
    "\n",
    "action, states = model.predict(\n",
    "    observation=obs,\n",
    ")"
   ],
   "metadata": {
    "collapsed": false
   }
  },
  {
   "cell_type": "code",
   "execution_count": null,
   "outputs": [],
   "source": [
    "print(f\"Application space: {obs['space_App']}\")"
   ],
   "metadata": {
    "collapsed": false
   }
  },
  {
   "cell_type": "code",
   "execution_count": null,
   "metadata": {},
   "outputs": [],
   "source": [
    "print(f\"Selected action: {action}\")\n",
    "print(f\"States: {states}\")"
   ]
  },
  {
   "cell_type": "raw",
   "source": [
    "Test model manually"
   ],
   "metadata": {
    "collapsed": false
   }
  },
  {
   "cell_type": "code",
   "execution_count": 1,
   "outputs": [
    {
     "name": "stdout",
     "output_type": "stream",
     "text": [
      "[<edge_relocation.MecNode object at 0x000001C5C5A9D130>, <edge_relocation.MecNode object at 0x000001C5C5A9D6D0>, <edge_relocation.MecNode object at 0x000001C5C5A9D3A0>, <edge_relocation.MecNode object at 0x000001C5C5A9D640>, <edge_relocation.MecNode object at 0x000001C5C5A9D370>, <edge_relocation.MecNode object at 0x000001C5C5A9D310>, <edge_relocation.MecNode object at 0x000001C5E5113A60>, <edge_relocation.MecNode object at 0x000001C5E5113A90>, <edge_relocation.MecNode object at 0x000001C5E51139D0>, <edge_relocation.MecNode object at 0x000001C5E5188F10>, <edge_relocation.MecNode object at 0x000001C5E5188F40>, <edge_relocation.MecNode object at 0x000001C5E5188F70>, <edge_relocation.MecNode object at 0x000001C5E5188FA0>, <edge_relocation.MecNode object at 0x000001C5E5188FD0>, <edge_relocation.MecNode object at 0x000001C5E51A5040>, <edge_relocation.MecNode object at 0x000001C5E51A5070>, <edge_relocation.MecNode object at 0x000001C5E51A50A0>, <edge_relocation.MecNode object at 0x000001C5E51A50D0>, <edge_relocation.MecNode object at 0x000001C5E51A5100>, <edge_relocation.MecNode object at 0x000001C5E51A5130>, <edge_relocation.MecNode object at 0x000001C5E51A5160>, <edge_relocation.MecNode object at 0x000001C5E51A5190>]\n",
      "[True, True, True, False, True, True, False, True, False, False, False, True, True, False, False, False, True, False, True, False, False, True]\n",
      "[<edge_relocation.MecNode object at 0x000001C5C5A13DF0>, <edge_relocation.MecNode object at 0x000001C5C5A82F40>, <edge_relocation.MecNode object at 0x000001C5C5A82F10>, <edge_relocation.MecNode object at 0x000001C5E51A53D0>, <edge_relocation.MecNode object at 0x000001C5E51A5340>, <edge_relocation.MecNode object at 0x000001C5E51A5370>, <edge_relocation.MecNode object at 0x000001C5E51A5310>, <edge_relocation.MecNode object at 0x000001C5E51A51F0>, <edge_relocation.MecNode object at 0x000001C5E51A52E0>, <edge_relocation.MecNode object at 0x000001C5E51A52B0>, <edge_relocation.MecNode object at 0x000001C5E51A5400>, <edge_relocation.MecNode object at 0x000001C5E51A5430>, <edge_relocation.MecNode object at 0x000001C5E51A5460>, <edge_relocation.MecNode object at 0x000001C5E51A5490>, <edge_relocation.MecNode object at 0x000001C5E51A54C0>, <edge_relocation.MecNode object at 0x000001C5E51A54F0>, <edge_relocation.MecNode object at 0x000001C5E51A5520>, <edge_relocation.MecNode object at 0x000001C5E51A5550>, <edge_relocation.MecNode object at 0x000001C5E51A5580>, <edge_relocation.MecNode object at 0x000001C5E51A55B0>, <edge_relocation.MecNode object at 0x000001C5E51A55E0>, <edge_relocation.MecNode object at 0x000001C5E51A5610>]\n"
     ]
    }
   ],
   "source": [
    "erEnv = er.EdgeRelEnv(\"topoconfig.json\")"
   ],
   "metadata": {
    "collapsed": false
   }
  },
  {
   "cell_type": "code",
   "execution_count": 4,
   "outputs": [
    {
     "name": "stdout",
     "output_type": "stream",
     "text": [
      "10\n",
      "26\n"
     ]
    },
    {
     "data": {
      "text/plain": "[False,\n False,\n False,\n False,\n False,\n False,\n False,\n False,\n False,\n False,\n False,\n False,\n True,\n True,\n True,\n True,\n True,\n False,\n True,\n True,\n False,\n False]"
     },
     "execution_count": 4,
     "metadata": {},
     "output_type": "execute_result"
    }
   ],
   "source": [
    "initialState = erEnv.reset()"
   ],
   "metadata": {
    "collapsed": false
   }
  },
  {
   "cell_type": "code",
   "execution_count": 3,
   "outputs": [
    {
     "name": "stdout",
     "output_type": "stream",
     "text": [
      "Trajectory length: 20\n",
      "Current action 6\n",
      "Current action 20\n",
      "Current action 4\n",
      "Current action 17\n",
      "Current action 17\n",
      "No relocation, since selected cluster is the same as a current\n",
      "Current action 16\n",
      "Current action 3\n",
      "Current action 20\n",
      "Current action 13\n",
      "Current action 11\n",
      "Current action 3\n",
      "Current action 1\n",
      "Current action 7\n",
      "Current action 4\n",
      "Current action 22\n",
      "Current action 11\n",
      "Current action 3\n",
      "Current action 12\n",
      "Current action 17\n",
      "Current action 16\n"
     ]
    }
   ],
   "source": [
    "state, reward, done = None, None, None\n",
    "print(f\"Trajectory length: {len(erEnv.trajectory)}\")\n",
    "# for i in range(len(erEnv.trajectory)):\n",
    "while True:\n",
    "    action = -1\n",
    "    while action not in [1, 3, 4, 5, 6, 7, 11, 12, 13, 14, 15, 16, 17, 18, 18, 20, 21, 22, 23, 24, 25, 26]:\n",
    "        action = erEnv.action_space.sample()\n",
    "    print(f\"Current action {action}\")\n",
    "    state, reward, done, _ = erEnv.step(action)\n",
    "    if done:\n",
    "        break"
   ],
   "metadata": {
    "collapsed": false
   }
  },
  {
   "cell_type": "code",
   "execution_count": 1,
   "outputs": [
    {
     "ename": "NameError",
     "evalue": "name 'done' is not defined",
     "output_type": "error",
     "traceback": [
      "\u001B[1;31m---------------------------------------------------------------------------\u001B[0m",
      "\u001B[1;31mNameError\u001B[0m                                 Traceback (most recent call last)",
      "Cell \u001B[1;32mIn[1], line 1\u001B[0m\n\u001B[1;32m----> 1\u001B[0m \u001B[38;5;28mprint\u001B[39m(\u001B[43mdone\u001B[49m)\n",
      "\u001B[1;31mNameError\u001B[0m: name 'done' is not defined"
     ]
    }
   ],
   "source": [
    "print(done)"
   ],
   "metadata": {
    "collapsed": false
   }
  }
 ],
 "metadata": {
  "kernelspec": {
   "display_name": "Python 3 (ipykernel)",
   "language": "python",
   "name": "python3"
  },
  "language_info": {
   "codemirror_mode": {
    "name": "ipython",
    "version": 3
   },
   "file_extension": ".py",
   "mimetype": "text/x-python",
   "name": "python",
   "nbconvert_exporter": "python",
   "pygments_lexer": "ipython3",
   "version": "3.8.10"
  }
 },
 "nbformat": 4,
 "nbformat_minor": 1
}
